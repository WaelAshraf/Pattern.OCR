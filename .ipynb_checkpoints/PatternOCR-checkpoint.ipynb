{
 "cells": [
  {
   "cell_type": "code",
   "execution_count": null,
   "metadata": {},
   "outputs": [],
   "source": [
    "import cv2\n",
    "import numpy as np\n",
    "\n",
    "# import image\n",
    "image = cv2.imread('ksmk.png')\n",
    "\n",
    "# grayscale\n",
    "gray = cv2.cvtColor(image, cv2.COLOR_BGR2GRAY)\n",
    "cv2.imshow('gray', gray)\n",
    "\n",
    "# binary\n",
    "ret, thresh = cv2.threshold(gray, 127, 255, cv2.THRESH_BINARY_INV)\n",
    "cv2.imshow('threshold', thresh)\n",
    "\n",
    "# dilation\n",
    "kernel = np.ones((5, 5), np.uint8)\n",
    "img_dilation = cv2.dilate(thresh, kernel, iterations=1)\n",
    "cv2.imshow('dilated', img_dilation)\n",
    "\n",
    "# find contours\n",
    "# cv2.findCountours() function changed from OpenCV3 to OpenCV4: now it have only two parameters instead of 3\n",
    "cv2MajorVersion = cv2.__version__.split(\".\")[0]\n",
    "# check for contours on thresh\n",
    "if int(cv2MajorVersion) >= 4:\n",
    "    ctrs, hier = cv2.findContours(img_dilation.copy(), cv2.RETR_EXTERNAL, cv2.CHAIN_APPROX_SIMPLE)\n",
    "else:\n",
    "    im2, ctrs, hier = cv2.findContours(img_dilation.copy(), cv2.RETR_EXTERNAL, cv2.CHAIN_APPROX_SIMPLE)\n",
    "\n",
    "# sort contours\n",
    "sorted_ctrs = sorted(ctrs, key=lambda ctr: cv2.boundingRect(ctr)[0])\n",
    "\n",
    "for i, ctr in enumerate(sorted_ctrs):\n",
    "    # Get bounding box\n",
    "    x, y, w, h = cv2.boundingRect(ctr)\n",
    "\n",
    "    # Getting ROI\n",
    "    roi = image[y:y + h, x:x + w]\n",
    "\n",
    "    # show ROI\n",
    "    # cv2.imshow('segment no:'+str(i),roi)\n",
    "    cv2.rectangle(image, (x, y), (x + w, y + h), (0, 255, 0), 2)\n",
    "\n",
    "    if w > 15 and h > 15:\n",
    "        cv2.imwrite('{}.png'.format(i), roi)\n",
    "\n",
    "cv2.imshow('marked areas', image)\n",
    "cv2.waitKey(0)"
   ]
  },
  {
   "cell_type": "code",
   "execution_count": null,
   "metadata": {},
   "outputs": [],
   "source": []
  }
 ],
 "metadata": {
  "kernelspec": {
   "display_name": "Python 3",
   "language": "python",
   "name": "python3"
  },
  "language_info": {
   "codemirror_mode": {
    "name": "ipython",
    "version": 3
   },
   "file_extension": ".py",
   "mimetype": "text/x-python",
   "name": "python",
   "nbconvert_exporter": "python",
   "pygments_lexer": "ipython3",
   "version": "3.7.4"
  }
 },
 "nbformat": 4,
 "nbformat_minor": 2
}
